{
 "cells": [
  {
   "cell_type": "code",
   "execution_count": 1,
   "metadata": {},
   "outputs": [
    {
     "name": "stdout",
     "output_type": "stream",
     "text": [
      "factorial of 3 is : 6\n",
      "factorial of 5 is : 120\n"
     ]
    }
   ],
   "source": [
    "import xmlrpc.client\n",
    "proxy = xmlrpc.client.ServerProxy(\"http://localhost:8000/\") \n",
    "print(\"factorial of 3 is : %s\" % str(proxy.factorial_rpc(3)))\n",
    "print(\"factorial of 5 is : %s\" % str(proxy.factorial_rpc(5)))"
   ]
  },
  {
   "cell_type": "code",
   "execution_count": null,
   "id": "b787c258",
   "metadata": {},
   "outputs": [],
   "source": []
  }
 ],
 "metadata": {
  "kernelspec": {
   "display_name": "Python 3",
   "language": "python",
   "name": "python3"
  },
  "language_info": {
   "codemirror_mode": {
    "name": "ipython",
    "version": 3
   },
   "file_extension": ".py",
   "mimetype": "text/x-python",
   "name": "python",
   "nbconvert_exporter": "python",
   "pygments_lexer": "ipython3",
   "version": "3.10.2"
  }
 },
 "nbformat": 4,
 "nbformat_minor": 5
}
