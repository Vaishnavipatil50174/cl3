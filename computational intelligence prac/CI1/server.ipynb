{
 "cells": [
  {
   "cell_type": "code",
   "execution_count": 1,
   "metadata": {},
   "outputs": [
    {
     "name": "stdout",
     "output_type": "stream",
     "text": [
      "Starting and listening on port 8000...\n",
      "Press Ctrl + C to exit.\n"
     ]
    },
    {
     "name": "stderr",
     "output_type": "stream",
     "text": [
      "127.0.0.1 - - [20/Apr/2024 11:31:00] \"POST / HTTP/1.1\" 200 -\n",
      "127.0.0.1 - - [20/Apr/2024 11:31:02] \"POST / HTTP/1.1\" 200 -\n"
     ]
    }
   ],
   "source": [
    "from xmlrpc.server import SimpleXMLRPCServer\n",
    "def factorial(n):\n",
    "    fact = 1\n",
    "    for i in range(1,n+1):\n",
    "        fact=fact*i\n",
    "    return fact\n",
    "server = SimpleXMLRPCServer((\"localhost\", 8000), logRequests=True)\n",
    "server.register_function(factorial, \"factorial_rpc\")\n",
    "try:\n",
    "    print(\"Starting and listening on port 8000...\")\n",
    "    print(\"Press Ctrl + C to exit.\")\n",
    "    server.serve_forever()\n",
    "except:\n",
    "    print(\"Exit.\")"
   ]
  }
 ],
 "metadata": {
  "kernelspec": {
   "display_name": "Python 3",
   "language": "python",
   "name": "python3"
  },
  "language_info": {
   "codemirror_mode": {
    "name": "ipython",
    "version": 3
   },
   "file_extension": ".py",
   "mimetype": "text/x-python",
   "name": "python",
   "nbconvert_exporter": "python",
   "pygments_lexer": "ipython3",
   "version": "3.10.2"
  }
 },
 "nbformat": 4,
 "nbformat_minor": 5
}
